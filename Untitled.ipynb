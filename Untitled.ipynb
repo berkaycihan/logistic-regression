{
 "cells": [
  {
   "cell_type": "markdown",
   "metadata": {},
   "source": [
    "## Kütüphaneler"
   ]
  },
  {
   "cell_type": "code",
   "execution_count": 1,
   "metadata": {},
   "outputs": [],
   "source": [
    "import numpy as np\n",
    "import pandas as pd\n",
    "import matplotlib.pyplot as plt"
   ]
  },
  {
   "cell_type": "markdown",
   "metadata": {},
   "source": [
    "## .CSV Dosyasını Okuma"
   ]
  },
  {
   "cell_type": "code",
   "execution_count": 2,
   "metadata": {},
   "outputs": [],
   "source": [
    "data=pd.read_csv(\"cancerdata.csv\")"
   ]
  },
  {
   "cell_type": "markdown",
   "metadata": {},
   "source": [
    "## Veri Ön işleme"
   ]
  },
  {
   "cell_type": "code",
   "execution_count": 3,
   "metadata": {},
   "outputs": [
    {
     "name": "stdout",
     "output_type": "stream",
     "text": [
      "<class 'pandas.core.frame.DataFrame'>\n",
      "RangeIndex: 569 entries, 0 to 568\n",
      "Data columns (total 31 columns):\n",
      "diagnosis                  569 non-null int64\n",
      "radius_mean                569 non-null float64\n",
      "texture_mean               569 non-null float64\n",
      "perimeter_mean             569 non-null float64\n",
      "area_mean                  569 non-null float64\n",
      "smoothness_mean            569 non-null float64\n",
      "compactness_mean           569 non-null float64\n",
      "concavity_mean             569 non-null float64\n",
      "concave points_mean        569 non-null float64\n",
      "symmetry_mean              569 non-null float64\n",
      "fractal_dimension_mean     569 non-null float64\n",
      "radius_se                  569 non-null float64\n",
      "texture_se                 569 non-null float64\n",
      "perimeter_se               569 non-null float64\n",
      "area_se                    569 non-null float64\n",
      "smoothness_se              569 non-null float64\n",
      "compactness_se             569 non-null float64\n",
      "concavity_se               569 non-null float64\n",
      "concave points_se          569 non-null float64\n",
      "symmetry_se                569 non-null float64\n",
      "fractal_dimension_se       569 non-null float64\n",
      "radius_worst               569 non-null float64\n",
      "texture_worst              569 non-null float64\n",
      "perimeter_worst            569 non-null float64\n",
      "area_worst                 569 non-null float64\n",
      "smoothness_worst           569 non-null float64\n",
      "compactness_worst          569 non-null float64\n",
      "concavity_worst            569 non-null float64\n",
      "concave points_worst       569 non-null float64\n",
      "symmetry_worst             569 non-null float64\n",
      "fractal_dimension_worst    569 non-null float64\n",
      "dtypes: float64(30), int64(1)\n",
      "memory usage: 137.9 KB\n",
      "None\n"
     ]
    }
   ],
   "source": [
    "data.drop([\"Unnamed: 32\",\"id\"],axis=1,inplace=True)\n",
    "data.diagnosis=[1 if each== \"M\" else 0 for each in data.diagnosis]\n",
    "print(data.info())"
   ]
  },
  {
   "cell_type": "markdown",
   "metadata": {},
   "source": [
    "#### y       değişkenimize binary değerleri,x_data  değişkenimize featureları atıyoruz\n"
   ]
  },
  {
   "cell_type": "code",
   "execution_count": 4,
   "metadata": {},
   "outputs": [],
   "source": [
    "y=data.diagnosis.values\n",
    "x_data=data.drop([\"diagnosis\"],axis=1)"
   ]
  },
  {
   "cell_type": "markdown",
   "metadata": {},
   "source": [
    "## Normalizasyon işlemi"
   ]
  },
  {
   "cell_type": "markdown",
   "metadata": {},
   "source": [
    "### normalizasyon formulü: (x-min(x))/(max(x)-min(x))"
   ]
  },
  {
   "cell_type": "code",
   "execution_count": 5,
   "metadata": {},
   "outputs": [],
   "source": [
    "x= (x_data-np.min(x_data))/(np.max(x_data)-np.min(x_data)).values"
   ]
  },
  {
   "cell_type": "code",
   "execution_count": 6,
   "metadata": {
    "collapsed": true,
    "jupyter": {
     "outputs_hidden": true
    }
   },
   "outputs": [
    {
     "name": "stdout",
     "output_type": "stream",
     "text": [
      "     radius_mean  texture_mean  perimeter_mean  area_mean  smoothness_mean  \\\n",
      "0       0.521037      0.022658        0.545989   0.363733         0.593753   \n",
      "1       0.643144      0.272574        0.615783   0.501591         0.289880   \n",
      "2       0.601496      0.390260        0.595743   0.449417         0.514309   \n",
      "3       0.210090      0.360839        0.233501   0.102906         0.811321   \n",
      "4       0.629893      0.156578        0.630986   0.489290         0.430351   \n",
      "5       0.258839      0.202570        0.267984   0.141506         0.678613   \n",
      "6       0.533343      0.347311        0.523875   0.380276         0.379164   \n",
      "7       0.318472      0.376057        0.320710   0.184263         0.598267   \n",
      "8       0.284869      0.409537        0.302052   0.159618         0.674099   \n",
      "9       0.259312      0.484613        0.277659   0.140997         0.595558   \n",
      "10      0.427801      0.457558        0.407090   0.277540         0.265686   \n",
      "11      0.416442      0.276632        0.413309   0.270414         0.401462   \n",
      "12      0.576885      0.510315        0.612328   0.415483         0.404171   \n",
      "13      0.419755      0.481569        0.414000   0.271135         0.283290   \n",
      "14      0.319419      0.436253        0.344206   0.184433         0.545906   \n",
      "15      0.357755      0.602976        0.365835   0.218579         0.553128   \n",
      "16      0.364381      0.352384        0.352083   0.229480         0.415636   \n",
      "17      0.433007      0.370984        0.444406   0.277964         0.581114   \n",
      "18      0.607175      0.420697        0.595743   0.473595         0.412386   \n",
      "19      0.310426      0.157254        0.301776   0.179343         0.407692   \n",
      "20      0.288655      0.202908        0.289130   0.159703         0.495351   \n",
      "21      0.119409      0.092323        0.114367   0.055313         0.449309   \n",
      "22      0.395617      0.153872        0.405708   0.237922         0.493545   \n",
      "23      0.671068      0.450795        0.645498   0.534677         0.376004   \n",
      "24      0.457617      0.394657        0.457536   0.322842         0.536878   \n",
      "25      0.480808      0.226243        0.498998   0.326278         0.595558   \n",
      "26      0.359648      0.399729        0.370534   0.212641         0.476393   \n",
      "27      0.550381      0.356442        0.541151   0.403181         0.377088   \n",
      "28      0.393724      0.526209        0.405017   0.249799         0.501670   \n",
      "29      0.501160      0.180588        0.492088   0.344263         0.413830   \n",
      "..           ...           ...             ...        ...              ...   \n",
      "539     0.033603      0.531958        0.031442   0.011410         0.307394   \n",
      "540     0.215770      0.159959        0.213254   0.110032         0.426198   \n",
      "541     0.354442      0.516740        0.359478   0.217561         0.322651   \n",
      "542     0.367220      0.531282        0.351807   0.222736         0.271915   \n",
      "543     0.294808      0.620561        0.283947   0.167508         0.307665   \n",
      "544     0.326045      0.371660        0.317739   0.187190         0.389546   \n",
      "545     0.314213      0.457220        0.299910   0.182269         0.359574   \n",
      "546     0.158029      0.224552        0.148711   0.076946         0.376546   \n",
      "547     0.155190      0.232330        0.152443   0.075207         0.326262   \n",
      "548     0.127881      0.325668        0.119273   0.060318         0.291415   \n",
      "549     0.181693      0.490362        0.173450   0.092513         0.264422   \n",
      "550     0.183587      0.398039        0.170824   0.092047         0.195721   \n",
      "551     0.196365      0.430504        0.191417   0.099639         0.388463   \n",
      "552     0.273984      0.666892        0.259554   0.154571         0.272005   \n",
      "553     0.111316      0.413595        0.105176   0.051113         0.359032   \n",
      "554     0.279190      0.649645        0.267501   0.157285         0.258193   \n",
      "555     0.156609      0.605343        0.151199   0.075461         0.340074   \n",
      "556     0.150457      0.334122        0.144703   0.071347         0.430351   \n",
      "557     0.115576      0.614474        0.106903   0.054210         0.258193   \n",
      "558     0.360121      0.438620        0.363486   0.217858         0.289790   \n",
      "559     0.214350      0.480893        0.212356   0.110286         0.360928   \n",
      "560     0.334564      0.589787        0.328865   0.193807         0.421233   \n",
      "561     0.199678      0.664863        0.185751   0.102863         0.197346   \n",
      "562     0.389938      0.707136        0.411927   0.243224         0.470976   \n",
      "563     0.659709      0.520122        0.685578   0.510498         0.517017   \n",
      "564     0.690000      0.428813        0.678668   0.566490         0.526948   \n",
      "565     0.622320      0.626987        0.604036   0.474019         0.407782   \n",
      "566     0.455251      0.621238        0.445788   0.303118         0.288165   \n",
      "567     0.644564      0.663510        0.665538   0.475716         0.588336   \n",
      "568     0.036869      0.501522        0.028540   0.015907         0.000000   \n",
      "\n",
      "     compactness_mean  concavity_mean  concave points_mean  symmetry_mean  \\\n",
      "0            0.792037        0.703140             0.731113       0.686364   \n",
      "1            0.181768        0.203608             0.348757       0.379798   \n",
      "2            0.431017        0.462512             0.635686       0.509596   \n",
      "3            0.811361        0.565604             0.522863       0.776263   \n",
      "4            0.347893        0.463918             0.518390       0.378283   \n",
      "5            0.461996        0.369728             0.402038       0.518687   \n",
      "6            0.274891        0.264058             0.367793       0.370707   \n",
      "7            0.445126        0.219447             0.297465       0.573737   \n",
      "8            0.533157        0.435567             0.464861       0.651515   \n",
      "9            0.675480        0.532568             0.424602       0.489899   \n",
      "10           0.145114        0.077296             0.165159       0.236364   \n",
      "11           0.336850        0.233224             0.328330       0.394949   \n",
      "12           0.694497        0.483833             0.555666       0.675253   \n",
      "13           0.247899        0.232849             0.266600       0.397475   \n",
      "14           0.643887        0.498594             0.398857       0.509596   \n",
      "15           0.429790        0.384021             0.366004       0.627778   \n",
      "16           0.161401        0.173266             0.261382       0.265657   \n",
      "17           0.560763        0.403468             0.510934       0.557576   \n",
      "18           0.255567        0.346532             0.472068       0.263636   \n",
      "19           0.189896        0.156139             0.237624       0.416667   \n",
      "20           0.330102        0.107029             0.154573       0.458081   \n",
      "21           0.139685        0.069260             0.103181       0.381313   \n",
      "22           0.595424        0.486645             0.484891       0.737879   \n",
      "23           0.254033        0.257029             0.429026       0.358081   \n",
      "24           0.387461        0.357310             0.455765       0.472222   \n",
      "25           0.638672        0.522259             0.696322       1.000000   \n",
      "26           0.513527        0.333880             0.436531       0.602020   \n",
      "27           0.267530        0.349110             0.384245       0.321717   \n",
      "28           0.461076        0.394330             0.434940       0.437374   \n",
      "29           0.295442        0.231373             0.395278       0.342929   \n",
      "..                ...             ...                  ...            ...   \n",
      "539          0.308325        0.216776             0.067793       0.493434   \n",
      "540          0.284093        0.157849             0.128926       0.382828   \n",
      "541          0.317833        0.236410             0.193340       0.410101   \n",
      "542          0.161831        0.096181             0.150447       0.393939   \n",
      "543          0.151494        0.069986             0.162773       0.286869   \n",
      "544          0.252807        0.086410             0.117744       0.282828   \n",
      "545          0.147506        0.069681             0.121421       0.305051   \n",
      "546          0.093737        0.023711             0.027311       0.416667   \n",
      "547          0.187964        0.102109             0.121173       0.307576   \n",
      "548          0.094841        0.054756             0.047788       0.262626   \n",
      "549          0.143059        0.036270             0.040557       0.462626   \n",
      "550          0.070210        0.000000             0.000000       0.303535   \n",
      "551          0.191890        0.113027             0.112177       0.489899   \n",
      "552          0.070425        0.046790             0.074503       0.241919   \n",
      "553          0.112478        0.093627             0.063718       0.319192   \n",
      "554          0.119195        0.145150             0.116451       0.255556   \n",
      "555          0.175449        0.140558             0.136083       0.269192   \n",
      "556          0.170726        0.011774             0.055467       0.369192   \n",
      "557          0.093031        0.000000             0.000000       0.344444   \n",
      "558          0.348506        0.241097             0.185686       0.198990   \n",
      "559          0.253727        0.260544             0.204026       0.165657   \n",
      "560          0.285933        0.104545             0.213917       0.240909   \n",
      "561          0.049690        0.000000             0.000000       0.000000   \n",
      "562          0.580701        0.597470             0.468638       0.539394   \n",
      "563          0.626403        0.743674             0.732604       0.550000   \n",
      "564          0.296055        0.571462             0.690358       0.336364   \n",
      "565          0.257714        0.337395             0.486630       0.349495   \n",
      "566          0.254340        0.216753             0.263519       0.267677   \n",
      "567          0.790197        0.823336             0.755467       0.675253   \n",
      "568          0.074351        0.000000             0.000000       0.266162   \n",
      "\n",
      "     fractal_dimension_mean  ...  radius_worst  texture_worst  \\\n",
      "0                  0.605518  ...      0.620776       0.141525   \n",
      "1                  0.141323  ...      0.606901       0.303571   \n",
      "2                  0.211247  ...      0.556386       0.360075   \n",
      "3                  1.000000  ...      0.248310       0.385928   \n",
      "4                  0.186816  ...      0.519744       0.123934   \n",
      "5                  0.551179  ...      0.268232       0.312633   \n",
      "6                  0.157119  ...      0.531839       0.416844   \n",
      "7                  0.517060  ...      0.324795       0.429638   \n",
      "8                  0.504002  ...      0.268943       0.498667   \n",
      "9                  0.683867  ...      0.254714       0.763859   \n",
      "10                 0.147641  ...      0.400569       0.582623   \n",
      "11                 0.228728  ...      0.444326       0.406716   \n",
      "12                 0.590564  ...      0.463536       0.477612   \n",
      "13                 0.072030  ...      0.316969       0.416844   \n",
      "14                 0.565712  ...      0.252579       0.532783   \n",
      "15                 0.438290  ...      0.339025       0.669243   \n",
      "16                 0.195029  ...      0.396300       0.502665   \n",
      "17                 0.497051  ...      0.463536       0.518657   \n",
      "18                 0.084035  ...      0.689790       0.502665   \n",
      "19                 0.162174  ...      0.255425       0.192964   \n",
      "20                 0.382266  ...      0.233725       0.225746   \n",
      "21                 0.402064  ...      0.081821       0.097015   \n",
      "22                 0.428812  ...      0.360726       0.188166   \n",
      "23                 0.059393  ...      0.755603       0.628198   \n",
      "24                 0.280960  ...      0.659196       0.520789   \n",
      "25                 0.509056  ...      0.509427       0.250000   \n",
      "26                 0.406066  ...      0.344717       0.564765   \n",
      "27                 0.148062  ...      0.475987       0.406183   \n",
      "28                 0.325190  ...      0.438990       0.658049   \n",
      "29                 0.242839  ...      0.429740       0.199893   \n",
      "..                      ...  ...           ...            ...   \n",
      "539                0.580244  ...      0.026610       0.529584   \n",
      "540                0.376158  ...      0.154038       0.204158   \n",
      "541                0.283277  ...      0.294913       0.525320   \n",
      "542                0.144061  ...      0.305229       0.540245   \n",
      "543                0.165333  ...      0.229100       0.670309   \n",
      "544                0.356361  ...      0.253291       0.339286   \n",
      "545                0.169545  ...      0.263963       0.454957   \n",
      "546                0.253791  ...      0.118107       0.259861   \n",
      "547                0.361837  ...      0.103166       0.267058   \n",
      "548                0.260952  ...      0.106724       0.361674   \n",
      "549                0.280539  ...      0.181430       0.517857   \n",
      "550                0.200505  ...      0.132693       0.339819   \n",
      "551                0.327717  ...      0.145500       0.432836   \n",
      "552                0.135004  ...      0.211313       0.639126   \n",
      "553                0.332772  ...      0.068125       0.347281   \n",
      "554                0.149958  ...      0.212024       0.632196   \n",
      "555                0.238206  ...      0.103522       0.610075   \n",
      "556                0.281171  ...      0.096763       0.289446   \n",
      "557                0.223884  ...      0.091071       0.592217   \n",
      "558                0.242418  ...      0.268588       0.406450   \n",
      "559                0.331508  ...      0.161864       0.670043   \n",
      "560                0.247473  ...      0.262184       0.563699   \n",
      "561                0.106571  ...      0.141942       0.700426   \n",
      "562                0.454086  ...      0.341160       0.820096   \n",
      "563                0.396588  ...      0.581999       0.463486   \n",
      "564                0.132056  ...      0.623266       0.383262   \n",
      "565                0.113100  ...      0.560655       0.699094   \n",
      "566                0.137321  ...      0.393099       0.589019   \n",
      "567                0.425442  ...      0.633582       0.730277   \n",
      "568                0.187026  ...      0.054287       0.489072   \n",
      "\n",
      "     perimeter_worst  area_worst  smoothness_worst  compactness_worst  \\\n",
      "0           0.668310    0.450698          0.601136           0.619292   \n",
      "1           0.539818    0.435214          0.347553           0.154563   \n",
      "2           0.508442    0.374508          0.483590           0.385375   \n",
      "3           0.241347    0.094008          0.915472           0.814012   \n",
      "4           0.506948    0.341575          0.437364           0.172415   \n",
      "5           0.263908    0.136748          0.712739           0.482784   \n",
      "6           0.511928    0.349194          0.482269           0.223448   \n",
      "7           0.299766    0.174941          0.622268           0.330753   \n",
      "8           0.277852    0.136183          0.654626           0.497531   \n",
      "9           0.235271    0.129326          0.753682           1.000000   \n",
      "10          0.365506    0.237122          0.309912           0.124002   \n",
      "11          0.428756    0.273742          0.451892           0.517711   \n",
      "12          0.504457    0.281852          0.214819           0.352194   \n",
      "13          0.306738    0.169903          0.276894           0.160191   \n",
      "14          0.290801    0.125959          0.620287           0.723006   \n",
      "15          0.367000    0.186296          0.638117           0.611627   \n",
      "16          0.363514    0.234172          0.496797           0.155048   \n",
      "17          0.430251    0.277674          0.711418           0.384211   \n",
      "18          0.679267    0.543846          0.528495           0.279138   \n",
      "19          0.245480    0.129276          0.480948           0.145540   \n",
      "20          0.227501    0.109443          0.396421           0.242852   \n",
      "21          0.073310    0.031877          0.404345           0.084903   \n",
      "22          0.371981    0.195561          0.447930           0.551183   \n",
      "23          0.685243    0.597179          0.455194           0.225776   \n",
      "24          0.630460    0.498869          0.721984           0.320662   \n",
      "25          0.507944    0.313557          0.550287           0.356657   \n",
      "26          0.358534    0.174916          0.537080           0.618030   \n",
      "27          0.445690    0.299302          0.413590           0.178916   \n",
      "28          0.492505    0.266368          0.613683           0.566318   \n",
      "29          0.420788    0.256046          0.358780           0.246345   \n",
      "..               ...         ...               ...                ...   \n",
      "539         0.020320    0.009438          0.583966           0.270794   \n",
      "540         0.141292    0.066998          0.418213           0.179013   \n",
      "541         0.314209    0.153288          0.414911           0.381203   \n",
      "542         0.283829    0.157589          0.230007           0.107023   \n",
      "543         0.209522    0.109221          0.237932           0.107508   \n",
      "544         0.242841    0.123722          0.364723           0.171154   \n",
      "545         0.234922    0.133848          0.333025           0.120703   \n",
      "546         0.103143    0.049081          0.378591           0.059309   \n",
      "547         0.102943    0.042322          0.494816           0.191431   \n",
      "548         0.093082    0.043993          0.321799           0.066139   \n",
      "549         0.166791    0.078746          0.325101           0.131958   \n",
      "550         0.117884    0.055815          0.191045           0.044814   \n",
      "551         0.136411    0.061787          0.247837           0.146414   \n",
      "552         0.187709    0.100644          0.344912           0.076753   \n",
      "553         0.062005    0.027182          0.258403           0.054031   \n",
      "554         0.191394    0.100890          0.340289           0.130696   \n",
      "555         0.095423    0.042371          0.443968           0.139428   \n",
      "556         0.087006    0.039840          0.365383           0.089948   \n",
      "557         0.080133    0.035735          0.238592           0.042970   \n",
      "558         0.276358    0.134757          0.207555           0.281175   \n",
      "559         0.158723    0.071028          0.387176           0.217724   \n",
      "560         0.247971    0.128170          0.349534           0.193178   \n",
      "561         0.123413    0.062525          0.141980           0.026826   \n",
      "562         0.389910    0.179365          0.465760           0.741634   \n",
      "563         0.640918    0.401543          0.459156           0.379651   \n",
      "564         0.576174    0.452664          0.461137           0.178527   \n",
      "565         0.520892    0.379915          0.300007           0.159997   \n",
      "566         0.379949    0.230731          0.282177           0.273705   \n",
      "567         0.668310    0.402035          0.619626           0.815758   \n",
      "568         0.043578    0.020497          0.124084           0.036043   \n",
      "\n",
      "     concavity_worst  concave points_worst  symmetry_worst  \\\n",
      "0           0.568610              0.912027        0.598462   \n",
      "1           0.192971              0.639175        0.233590   \n",
      "2           0.359744              0.835052        0.403706   \n",
      "3           0.548642              0.884880        1.000000   \n",
      "4           0.319489              0.558419        0.157500   \n",
      "5           0.427716              0.598282        0.477035   \n",
      "6           0.302236              0.663918        0.295289   \n",
      "7           0.213898              0.534708        0.321506   \n",
      "8           0.430511              0.707904        0.554504   \n",
      "9           0.882588              0.759450        0.552139   \n",
      "10          0.116534              0.342784        0.272620   \n",
      "11          0.316693              0.621993        0.438991   \n",
      "12          0.290655              0.607216        0.317564   \n",
      "13          0.185463              0.384536        0.245220   \n",
      "14          0.554553              0.758763        0.400355   \n",
      "15          0.561182              0.588316        0.522965   \n",
      "16          0.232748              0.552921        0.288587   \n",
      "17          0.382109              0.712371        0.422038   \n",
      "18          0.429073              0.820619        0.237138   \n",
      "19          0.190895              0.442612        0.278336   \n",
      "20          0.150958              0.250275        0.319141   \n",
      "21          0.070823              0.213986        0.174453   \n",
      "22          0.503594              0.822337        0.611473   \n",
      "23          0.251997              0.690378        0.247782   \n",
      "24          0.375000              0.719931        0.403706   \n",
      "25          0.307748              0.876289        0.493002   \n",
      "26          0.442412              0.928179        0.532032   \n",
      "27          0.275240              0.512027        0.152967   \n",
      "28          0.505990              0.695533        0.485314   \n",
      "29          0.198802              0.500344        0.234772   \n",
      "..               ...                   ...             ...   \n",
      "539         0.271006              0.171821        0.241474   \n",
      "540         0.143530              0.237732        0.150601   \n",
      "541         0.322684              0.414089        0.319732   \n",
      "542         0.128674              0.376289        0.228070   \n",
      "543         0.084824              0.273471        0.178987   \n",
      "544         0.109984              0.235223        0.134831   \n",
      "545         0.083786              0.246529        0.212300   \n",
      "546         0.035016              0.081821        0.219988   \n",
      "547         0.142412              0.286357        0.221959   \n",
      "548         0.074681              0.132165        0.194559   \n",
      "549         0.049473              0.112165        0.294500   \n",
      "550         0.000000              0.000000        0.176030   \n",
      "551         0.124920              0.220378        0.316184   \n",
      "552         0.069113              0.223299        0.165977   \n",
      "553         0.063842              0.088110        0.171496   \n",
      "554         0.194808              0.223127        0.159077   \n",
      "555         0.159744              0.313643        0.130298   \n",
      "556         0.008027              0.076701        0.137394   \n",
      "557         0.000000              0.000000        0.179381   \n",
      "558         0.292492              0.379725        0.136606   \n",
      "559         0.289936              0.331718        0.107826   \n",
      "560         0.105911              0.360137        0.135029   \n",
      "561         0.000000              0.000000        0.000197   \n",
      "562         0.934505              0.809622        0.497536   \n",
      "563         0.527077              0.873540        0.268874   \n",
      "564         0.328035              0.761512        0.097575   \n",
      "565         0.256789              0.559450        0.198502   \n",
      "566         0.271805              0.487285        0.128721   \n",
      "567         0.749760              0.910653        0.497142   \n",
      "568         0.000000              0.000000        0.257441   \n",
      "\n",
      "     fractal_dimension_worst  \n",
      "0                   0.418864  \n",
      "1                   0.222878  \n",
      "2                   0.213433  \n",
      "3                   0.773711  \n",
      "4                   0.142595  \n",
      "5                   0.454939  \n",
      "6                   0.187853  \n",
      "7                   0.393939  \n",
      "8                   0.342123  \n",
      "9                   1.000000  \n",
      "10                  0.193362  \n",
      "11                  0.326381  \n",
      "12                  0.309983  \n",
      "13                  0.051358  \n",
      "14                  0.577594  \n",
      "15                  0.518562  \n",
      "16                  0.177883  \n",
      "17                  0.388036  \n",
      "18                  0.138463  \n",
      "19                  0.115112  \n",
      "20                  0.175718  \n",
      "21                  0.148826  \n",
      "22                  0.291355  \n",
      "23                  0.132625  \n",
      "24                  0.266299  \n",
      "25                  0.333596  \n",
      "26                  0.475272  \n",
      "27                  0.125738  \n",
      "28                  0.286764  \n",
      "29                  0.158402  \n",
      "..                       ...  \n",
      "539                 0.338187  \n",
      "540                 0.172504  \n",
      "541                 0.309983  \n",
      "542                 0.095238  \n",
      "543                 0.061590  \n",
      "544                 0.195986  \n",
      "545                 0.095041  \n",
      "546                 0.124295  \n",
      "547                 0.260724  \n",
      "548                 0.158468  \n",
      "549                 0.139184  \n",
      "550                 0.071363  \n",
      "551                 0.165814  \n",
      "552                 0.064279  \n",
      "553                 0.123901  \n",
      "554                 0.113997  \n",
      "555                 0.182277  \n",
      "556                 0.081202  \n",
      "557                 0.096091  \n",
      "558                 0.163977  \n",
      "559                 0.211728  \n",
      "560                 0.184770  \n",
      "561                 0.026302  \n",
      "562                 0.563164  \n",
      "563                 0.286567  \n",
      "564                 0.105667  \n",
      "565                 0.074315  \n",
      "566                 0.151909  \n",
      "567                 0.452315  \n",
      "568                 0.100682  \n",
      "\n",
      "[569 rows x 30 columns]\n"
     ]
    }
   ],
   "source": [
    "print(x)"
   ]
  },
  {
   "cell_type": "markdown",
   "metadata": {},
   "source": [
    "### veriyi train ve test olarak bölme işlemi"
   ]
  },
  {
   "cell_type": "code",
   "execution_count": 7,
   "metadata": {},
   "outputs": [
    {
     "name": "stdout",
     "output_type": "stream",
     "text": [
      "x_traing: (30, 455)\n",
      "x_test (30, 114)\n",
      "y_train (455,)\n",
      "y_test (114,)\n"
     ]
    }
   ],
   "source": [
    "from sklearn.model_selection import train_test_split\n",
    "\n",
    "x_train, x_test, y_train, y_test =train_test_split(x,y,test_size=0.2,random_state=42)\n",
    "x_train= x_train.T\n",
    "x_test= x_test.T\n",
    "y_train= y_train.T\n",
    "y_test= y_test.T\n",
    "\n",
    "print(\"x_traing:\",x_train.shape)\n",
    "print(\"x_test\",x_test.shape)\n",
    "print(\"y_train\",y_train.shape)\n",
    "print(\"y_test\",y_test.shape)"
   ]
  },
  {
   "cell_type": "markdown",
   "metadata": {},
   "source": [
    "### w ve b parametrelerine ilk değerlerin verilmesi ve sigmoid fonksiyonu"
   ]
  },
  {
   "cell_type": "code",
   "execution_count": 8,
   "metadata": {},
   "outputs": [],
   "source": [
    "#dimension=30\n",
    "def initialize_weights_and_bias(dimension):\n",
    "    w= np.full((dimension,1),0.01)\n",
    "    b= 0.0\n",
    "    return w,b\n",
    "def sigmoid(z):\n",
    "    y_head=1/(1+np.exp(-z))\n",
    "    return y_head\n"
   ]
  },
  {
   "cell_type": "markdown",
   "metadata": {},
   "source": [
    "### forward ve backward propagation işlemini yapan fonksiyon"
   ]
  },
  {
   "cell_type": "code",
   "execution_count": 9,
   "metadata": {},
   "outputs": [],
   "source": [
    "def forward_backward_propagation(w,b,x_train,y_train):\n",
    "    \n",
    "    #forward\n",
    "    z = np.dot(w.T,x_train) + b\n",
    "    y_head = sigmoid(z)\n",
    "    loss = -y_train*np.log(y_head)-(1-y_train)*np.log(1-y_head)\n",
    "    cost = (np.sum(loss))/x_train.shape[1]\n",
    "    \n",
    "    #backward\n",
    "    derivative_weight = (np.dot(x_train,((y_head-y_train).T)))/x_train.shape[1]\n",
    "    derivative_bias = np.sum(y_head-y_train)/x_train.shape[1]                 \n",
    "    gradients = {\"derivative_weight\": derivative_weight, \"derivative_bias\": derivative_bias}\n",
    "    \n",
    "    return cost,gradients"
   ]
  },
  {
   "cell_type": "markdown",
   "metadata": {},
   "source": [
    "### w ve b güncelleme fonksiyonu"
   ]
  },
  {
   "cell_type": "code",
   "execution_count": 15,
   "metadata": {},
   "outputs": [],
   "source": [
    "def update(w, b, x_train, y_train, learning_rate,number_of_iterarion):\n",
    "    cost_list = []\n",
    "    cost_list2 = []\n",
    "    index = []\n",
    "    \n",
    "     # number_of_iterarion kere parametrelerin güncellenmesi(öğrenmesi)\n",
    "    for i in range(number_of_iterarion):\n",
    "        # forward ve backward prop yapar ve cost ,gradients'i bulur.\n",
    "        cost,gradients = forward_backward_propagation(w,b,x_train,y_train)\n",
    "        cost_list.append(cost)\n",
    "        # güncelle\n",
    "        w = w - learning_rate * gradients[\"derivative_weight\"]\n",
    "        b = b - learning_rate * gradients[\"derivative_bias\"]\n",
    "        if i % 10 == 0:\n",
    "            cost_list2.append(cost)\n",
    "            index.append(i)\n",
    "            print (\"Cost after iteration %i: %f\" %(i, cost))\n",
    "            \n",
    "    #  weights ve bias'ı parametrelerini güncelliyoruz.\n",
    "    parameters = {\"weight\": w,\"bias\": b}\n",
    "    plt.plot(index,cost_list2)\n",
    "    plt.xticks(index,rotation='vertical')\n",
    "    plt.xlabel(\"Number of Iteration\")\n",
    "    plt.ylabel(\"Cost\")\n",
    "    plt.show()\n",
    "    return parameters, gradients, cost_list"
   ]
  },
  {
   "cell_type": "markdown",
   "metadata": {},
   "source": [
    "## Tahmin"
   ]
  },
  {
   "cell_type": "code",
   "execution_count": 11,
   "metadata": {},
   "outputs": [],
   "source": [
    "def predict(w,b,x_test):\n",
    "    # x_test bir forward propagation girdisidir.\n",
    "    z = sigmoid(np.dot(w.T,x_test)+b)\n",
    "    Y_prediction = np.zeros((1,x_test.shape[1]))\n",
    "    # eğer z 0.5'ten büyükse tahminimiz 1 olur (y_head=1),\n",
    "    # eğer 0.5'ten küçükse 0 olur (y_head=0),\n",
    "    for i in range(z.shape[1]):\n",
    "        if z[0,i]<= 0.5:\n",
    "            Y_prediction[0,i] = 0\n",
    "        else:\n",
    "            Y_prediction[0,i] = 1\n",
    "\n",
    "    return Y_prediction\n"
   ]
  },
  {
   "cell_type": "markdown",
   "metadata": {},
   "source": [
    "## Lojistik Regresyon"
   ]
  },
  {
   "cell_type": "code",
   "execution_count": 13,
   "metadata": {},
   "outputs": [
    {
     "name": "stdout",
     "output_type": "stream",
     "text": [
      "Cost after iteration 0: 0.692977\n",
      "Cost after iteration 10: 0.499667\n",
      "Cost after iteration 20: 0.406616\n",
      "Cost after iteration 30: 0.351936\n",
      "Cost after iteration 40: 0.315762\n",
      "Cost after iteration 50: 0.289862\n",
      "Cost after iteration 60: 0.270257\n",
      "Cost after iteration 70: 0.254795\n",
      "Cost after iteration 80: 0.242214\n",
      "Cost after iteration 90: 0.231722\n",
      "Cost after iteration 100: 0.222796\n",
      "Cost after iteration 110: 0.215080\n",
      "Cost after iteration 120: 0.208317\n",
      "Cost after iteration 130: 0.202324\n",
      "Cost after iteration 140: 0.196961\n",
      "Cost after iteration 150: 0.192121\n",
      "Cost after iteration 160: 0.187722\n",
      "Cost after iteration 170: 0.183698\n",
      "Cost after iteration 180: 0.179997\n",
      "Cost after iteration 190: 0.176577\n",
      "Cost after iteration 200: 0.173402\n",
      "Cost after iteration 210: 0.170443\n",
      "Cost after iteration 220: 0.167676\n",
      "Cost after iteration 230: 0.165080\n",
      "Cost after iteration 240: 0.162638\n",
      "Cost after iteration 250: 0.160334\n",
      "Cost after iteration 260: 0.158155\n",
      "Cost after iteration 270: 0.156091\n",
      "Cost after iteration 280: 0.154131\n",
      "Cost after iteration 290: 0.152266\n"
     ]
    },
    {
     "data": {
      "image/png": "[encoded data removed]",
      "text/plain": [
       "<Figure size 432x288 with 1 Axes>"
      ]
     },
     "metadata": {
      "needs_background": "light"
     },
     "output_type": "display_data"
    },
    {
     "name": "stdout",
     "output_type": "stream",
     "text": [
      "test accuracy: 96.49122807017544 %\n",
      "train accuracy: 96.7032967032967 %\n"
     ]
    }
   ],
   "source": [
    "def logistic_regression(x_train, y_train, x_test, y_test, learning_rate ,  num_iterations):\n",
    "    # parametrelere ilk katsayıların atanması\n",
    "    dimension =  x_train.shape[0]  # that is 30\n",
    "    w,b = initialize_weights_and_bias(dimension)\n",
    "    # learning rate'i değiştirmeyin.\n",
    "    parameters, gradients, cost_list = update(w, b, x_train, y_train, learning_rate,num_iterations)\n",
    "    \n",
    "    y_prediction_test = predict(parameters[\"weight\"],parameters[\"bias\"],x_test)\n",
    "    y_prediction_train = predict(parameters[\"weight\"],parameters[\"bias\"],x_train)\n",
    "\n",
    "    # test hataları yüzdesi\n",
    "    print(\"test accuracy: {} %\".format(100 - np.mean(np.abs(y_prediction_test - y_test)) * 100))\n",
    "    print('train accuracy: {} %'.format(100-np.mean(np.abs(y_prediction_train - y_train )) *100 ))\n",
    "    \n",
    "logistic_regression(x_train, y_train, x_test, y_test,learning_rate = 1, num_iterations = 300)  "
   ]
  },
  {
   "cell_type": "markdown",
   "metadata": {},
   "source": [
    "## SONUÇ:\n"
   ]
  },
  {
   "cell_type": "markdown",
   "metadata": {},
   "source": [
    "### Kanser hücreleri verilerimize kurduğumuz model için doğru tahmin etme yüzdemiz % 96 olarak hesaplandı\n",
    "### Lojistik regresyon ile en temel binary sınıflandırma modelimizi ayrıntılı olarak kodladık."
   ]
  },
  {
   "cell_type": "markdown",
   "metadata": {},
   "source": [
    "### Ekstra:"
   ]
  },
  {
   "cell_type": "markdown",
   "metadata": {},
   "source": [
    "#### Sci-kit-learn kütüphanesi ile kısa yoldan bulunması için kod satırı"
   ]
  },
  {
   "cell_type": "code",
   "execution_count": 14,
   "metadata": {},
   "outputs": [
    {
     "name": "stdout",
     "output_type": "stream",
     "text": [
      "test accuracy 0.9736842105263158\n"
     ]
    }
   ],
   "source": [
    "from sklearn.linear_model import LogisticRegression\n",
    "lr = LogisticRegression()\n",
    "lr.fit(x_train.T,y_train.T)\n",
    "print(\"test accuracy {}\".format(lr.score(x_test.T,y_test.T)))"
   ]
  },
  {
   "cell_type": "markdown",
   "metadata": {},
   "source": [
    "#### bu şekilde hesaplandığında daha yüksek sonuçlar verebiliyor bkz:%97"
   ]
  },
  {
   "cell_type": "code",
   "execution_count": null,
   "metadata": {},
   "outputs": [],
   "source": []
  }
 ],
 "metadata": {
  "kernelspec": {
   "display_name": "Python 3",
   "language": "python",
   "name": "python3"
  },
  "language_info": {
   "codemirror_mode": {
    "name": "ipython",
    "version": 3
   },
   "file_extension": ".py",
   "mimetype": "text/x-python",
   "name": "python",
   "nbconvert_exporter": "python",
   "pygments_lexer": "ipython3",
   "version": "3.6.4"
  }
 },
 "nbformat": 4,
 "nbformat_minor": 4
}
